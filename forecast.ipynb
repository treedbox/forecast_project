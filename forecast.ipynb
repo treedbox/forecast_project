{
 "cells": [
  {
   "cell_type": "code",
   "execution_count": 1,
   "metadata": {
    "inputHidden": false,
    "outputHidden": false
   },
   "outputs": [],
   "source": [
    "import numpy as np\n",
    "import matplotlib.pyplot as plt\n",
    "from yahoo_fin import stock_info as si\n",
    "import pickle\n",
    "import os\n",
    "# import seaborn as sns\n",
    "# sns.set()"
   ]
  },
  {
   "cell_type": "code",
   "execution_count": 2,
   "metadata": {},
   "outputs": [],
   "source": [
    "# model settings\n",
    "\n",
    "# len input data to train/predict \n",
    "WINDOW_SIZE = 30\n",
    "INITIAL_MONEY = 1000\n",
    "STARTING_MONEY = INITIAL_MONEY\n",
    "LAYER_SIZE = 500\n",
    "\n",
    "# 20% buy and sell at a given time \n",
    "MAX_BUY = INITIAL_MONEY//20  \n",
    "MAX_SELL = INITIAL_MONEY//20\n",
    "TICKER  = 'spy'\n",
    "\n",
    "# training dataset \n",
    "start_date = '01/01/1999'\n",
    "end_date = '01/01/2017'\n",
    "interval = '1d'"
   ]
  },
  {
   "cell_type": "code",
   "execution_count": 3,
   "metadata": {},
   "outputs": [
    {
     "data": {
      "text/html": [
       "<div>\n",
       "<style scoped>\n",
       "    .dataframe tbody tr th:only-of-type {\n",
       "        vertical-align: middle;\n",
       "    }\n",
       "\n",
       "    .dataframe tbody tr th {\n",
       "        vertical-align: top;\n",
       "    }\n",
       "\n",
       "    .dataframe thead th {\n",
       "        text-align: right;\n",
       "    }\n",
       "</style>\n",
       "<table border=\"1\" class=\"dataframe\">\n",
       "  <thead>\n",
       "    <tr style=\"text-align: right;\">\n",
       "      <th></th>\n",
       "      <th>open</th>\n",
       "      <th>high</th>\n",
       "      <th>low</th>\n",
       "      <th>close</th>\n",
       "      <th>adjclose</th>\n",
       "      <th>volume</th>\n",
       "      <th>ticker</th>\n",
       "    </tr>\n",
       "  </thead>\n",
       "  <tbody>\n",
       "    <tr>\n",
       "      <th>1999-01-04</th>\n",
       "      <td>123.3750</td>\n",
       "      <td>125.21875</td>\n",
       "      <td>121.71875</td>\n",
       "      <td>123.03125</td>\n",
       "      <td>83.186729</td>\n",
       "      <td>9450400</td>\n",
       "      <td>SPY</td>\n",
       "    </tr>\n",
       "    <tr>\n",
       "      <th>1999-01-05</th>\n",
       "      <td>122.9375</td>\n",
       "      <td>124.87500</td>\n",
       "      <td>122.93750</td>\n",
       "      <td>124.43750</td>\n",
       "      <td>84.137527</td>\n",
       "      <td>8031000</td>\n",
       "      <td>SPY</td>\n",
       "    </tr>\n",
       "    <tr>\n",
       "      <th>1999-01-06</th>\n",
       "      <td>125.8125</td>\n",
       "      <td>127.75000</td>\n",
       "      <td>125.75000</td>\n",
       "      <td>127.43750</td>\n",
       "      <td>86.165947</td>\n",
       "      <td>7737700</td>\n",
       "      <td>SPY</td>\n",
       "    </tr>\n",
       "    <tr>\n",
       "      <th>1999-01-07</th>\n",
       "      <td>126.3750</td>\n",
       "      <td>127.21875</td>\n",
       "      <td>125.78125</td>\n",
       "      <td>126.81250</td>\n",
       "      <td>85.743378</td>\n",
       "      <td>5504900</td>\n",
       "      <td>SPY</td>\n",
       "    </tr>\n",
       "    <tr>\n",
       "      <th>1999-01-08</th>\n",
       "      <td>128.1875</td>\n",
       "      <td>128.50000</td>\n",
       "      <td>125.96875</td>\n",
       "      <td>127.75000</td>\n",
       "      <td>86.377289</td>\n",
       "      <td>6224400</td>\n",
       "      <td>SPY</td>\n",
       "    </tr>\n",
       "  </tbody>\n",
       "</table>\n",
       "</div>"
      ],
      "text/plain": [
       "                open       high        low      close   adjclose   volume  \\\n",
       "1999-01-04  123.3750  125.21875  121.71875  123.03125  83.186729  9450400   \n",
       "1999-01-05  122.9375  124.87500  122.93750  124.43750  84.137527  8031000   \n",
       "1999-01-06  125.8125  127.75000  125.75000  127.43750  86.165947  7737700   \n",
       "1999-01-07  126.3750  127.21875  125.78125  126.81250  85.743378  5504900   \n",
       "1999-01-08  128.1875  128.50000  125.96875  127.75000  86.377289  6224400   \n",
       "\n",
       "           ticker  \n",
       "1999-01-04    SPY  \n",
       "1999-01-05    SPY  \n",
       "1999-01-06    SPY  \n",
       "1999-01-07    SPY  \n",
       "1999-01-08    SPY  "
      ]
     },
     "execution_count": 3,
     "metadata": {},
     "output_type": "execute_result"
    }
   ],
   "source": [
    "# import stock_info module from yahoo_fin\n",
    "google = si.get_data(TICKER, start_date, end_date, interval)\n",
    "close = google.close.values.tolist()\n",
    "google.head()"
   ]
  },
  {
   "cell_type": "markdown",
   "metadata": {
    "inputHidden": false,
    "outputHidden": false
   },
   "source": [
    "import pandas as pd\n",
    "google = pd.read_csv('/Users/huseinzolkepli/Desktop/GOOG.csv')\n",
    "google.head()"
   ]
  },
  {
   "cell_type": "code",
   "execution_count": 6,
   "metadata": {
    "inputHidden": false,
    "outputHidden": false
   },
   "outputs": [],
   "source": [
    "# initialize model and \n",
    "from deep_evolution_strategy import Model, Agent \n",
    "# if os.path.\n",
    "#     with open(filename, 'rb') as input:\n",
    "#         model = pickle.load(input)  \n",
    "model = Model(input_size = WINDOW_SIZE, layer_size = LAYER_SIZE, output_size = 3)\n",
    "agent = Agent(\n",
    "    model = model,\n",
    "    money = INITIAL_MONEY,\n",
    "    max_buy = MAX_BUY,\n",
    "    max_sell = MAX_SELL,\n",
    "    close = close,\n",
    "    skip = 1,\n",
    ")"
   ]
  },
  {
   "cell_type": "code",
   "execution_count": null,
   "metadata": {
    "inputHidden": false,
    "outputHidden": false
   },
   "outputs": [
    {
     "name": "stdout",
     "output_type": "stream",
     "text": [
      "iter 10. reward: -93.568747\n",
      "iter 20. reward: -94.831224\n",
      "iter 30. reward: -93.548416\n",
      "iter 40. reward: 481.778110\n",
      "iter 50. reward: 523.055490\n",
      "iter 60. reward: 575.894549\n",
      "iter 70. reward: 845.485696\n",
      "iter 80. reward: 1312.904191\n",
      "iter 90. reward: 1662.427382\n",
      "iter 100. reward: 1659.936967\n",
      "iter 110. reward: 1739.450201\n",
      "iter 120. reward: 2079.266853\n",
      "iter 130. reward: 2230.706526\n",
      "iter 140. reward: 2601.470256\n",
      "iter 150. reward: 3049.241662\n",
      "iter 160. reward: 2910.650388\n",
      "iter 170. reward: 3478.524205\n",
      "iter 180. reward: 3428.902405\n",
      "iter 190. reward: 3414.396947\n",
      "iter 200. reward: 3785.378022\n",
      "iter 210. reward: 4221.768365\n",
      "iter 220. reward: 4384.740071\n",
      "iter 230. reward: 4132.718286\n",
      "iter 240. reward: 4301.765035\n",
      "iter 250. reward: 4763.497272\n",
      "iter 260. reward: 4796.490706\n",
      "iter 270. reward: 4890.421561\n",
      "iter 280. reward: 5057.094579\n",
      "iter 290. reward: 5140.695331\n",
      "iter 300. reward: 4931.492208\n",
      "iter 310. reward: 5388.088612\n",
      "iter 320. reward: 5223.720281\n",
      "iter 330. reward: 5551.377525\n",
      "iter 340. reward: 5162.051548\n",
      "iter 350. reward: 5153.905166\n",
      "iter 360. reward: 6010.883587\n",
      "iter 370. reward: 5963.823985\n",
      "iter 380. reward: 5138.308390\n",
      "iter 390. reward: 5549.011272\n",
      "iter 400. reward: 6201.674198\n"
     ]
    }
   ],
   "source": [
    "agent.fit(iterations = 500, checkpoint = 10)"
   ]
  },
  {
   "cell_type": "code",
   "execution_count": null,
   "metadata": {},
   "outputs": [],
   "source": [
    "# import stock_info module from yahoo_fin\n",
    "start_date = '01/01/2020'\n",
    "end_date = None # '01/01/2017'\n",
    "google = si.get_data(TICKER, start_date, end_date, interval = '1d')\n",
    "close = google.close.values.tolist()\n",
    "agent.close = close\n",
    "google.tail()"
   ]
  },
  {
   "cell_type": "code",
   "execution_count": null,
   "metadata": {
    "inputHidden": false,
    "outputHidden": false,
    "scrolled": true
   },
   "outputs": [],
   "source": [
    "agent.buy()"
   ]
  },
  {
   "cell_type": "code",
   "execution_count": null,
   "metadata": {},
   "outputs": [],
   "source": [
    "filename = 'mymodel.pkl'\n",
    "filehandler = open(filename, 'wb') \n",
    "pickle.dump(model, filehandler, pickle.HIGHEST_PROTOCOL)\n",
    "with open(filename, 'rb') as input:\n",
    "    loaded_model = pickle.load(input)\n",
    "loaded_model.weights[0].shape"
   ]
  },
  {
   "cell_type": "code",
   "execution_count": null,
   "metadata": {},
   "outputs": [],
   "source": [
    "filename = 'myagent.pkl'\n",
    "filehandler = open(filename, 'wb') \n",
    "pickle.dump(agent, filehandler, pickle.HIGHEST_PROTOCOL)\n",
    "with open(filename, 'rb') as input:\n",
    "    loaded_agent = pickle.load(input)"
   ]
  },
  {
   "cell_type": "code",
   "execution_count": null,
   "metadata": {},
   "outputs": [],
   "source": [
    "# re-training dataset \n",
    "start_date = '01/01/2006'\n",
    "end_date = '01/01/2011'\n",
    "interval = '1d'\n",
    "\n",
    "# import stock_info module from yahoo_fin\n",
    "google = si.get_data(TICKER, start_date, end_date, interval)\n",
    "close = google.close.values.tolist()\n",
    "google.head()"
   ]
  },
  {
   "cell_type": "code",
   "execution_count": null,
   "metadata": {},
   "outputs": [],
   "source": [
    "loaded_agent.fit(iterations = 500, checkpoint = 10)"
   ]
  }
 ],
 "metadata": {
  "kernel_info": {
   "name": "python3"
  },
  "kernelspec": {
   "display_name": "Python [conda env:forcast] *",
   "language": "python",
   "name": "conda-env-forcast-py"
  },
  "language_info": {
   "codemirror_mode": {
    "name": "ipython",
    "version": 3
   },
   "file_extension": ".py",
   "mimetype": "text/x-python",
   "name": "python",
   "nbconvert_exporter": "python",
   "pygments_lexer": "ipython3",
   "version": "3.7.3"
  },
  "nteract": {
   "version": "0.11.9"
  }
 },
 "nbformat": 4,
 "nbformat_minor": 4
}
