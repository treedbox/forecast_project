{
 "cells": [
  {
   "cell_type": "code",
   "execution_count": 1,
   "metadata": {
    "inputHidden": false,
    "outputHidden": false
   },
   "outputs": [],
   "source": [
    "import numpy as np\n",
    "import matplotlib.pyplot as plt\n",
    "from yahoo_fin import stock_info as si\n",
    "import pickle\n",
    "import os\n",
    "# import seaborn as sns\n",
    "# sns.set()"
   ]
  },
  {
   "cell_type": "code",
   "execution_count": 2,
   "metadata": {},
   "outputs": [],
   "source": [
    "# model settings\n",
    "\n",
    "# len input data to train/predict \n",
    "WINDOW_SIZE = 30\n",
    "INITIAL_MONEY = 1000\n",
    "STARTING_MONEY = INITIAL_MONEY\n",
    "LAYER_SIZE = 500\n",
    "\n",
    "# 20% buy and sell at a given time \n",
    "MAX_BUY = 5 # INITIAL_MONEY//20  \n",
    "MAX_SELL = 5 # INITIAL_MONEY//20\n",
    "TICKER  = 'spy'\n",
    "\n",
    "# training dataset \n",
    "start_date = '01/01/1999'\n",
    "end_date = '01/01/2017'\n",
    "interval = '1d'"
   ]
  },
  {
   "cell_type": "code",
   "execution_count": 3,
   "metadata": {},
   "outputs": [
    {
     "data": {
      "text/html": [
       "<div>\n",
       "<style scoped>\n",
       "    .dataframe tbody tr th:only-of-type {\n",
       "        vertical-align: middle;\n",
       "    }\n",
       "\n",
       "    .dataframe tbody tr th {\n",
       "        vertical-align: top;\n",
       "    }\n",
       "\n",
       "    .dataframe thead th {\n",
       "        text-align: right;\n",
       "    }\n",
       "</style>\n",
       "<table border=\"1\" class=\"dataframe\">\n",
       "  <thead>\n",
       "    <tr style=\"text-align: right;\">\n",
       "      <th></th>\n",
       "      <th>open</th>\n",
       "      <th>high</th>\n",
       "      <th>low</th>\n",
       "      <th>close</th>\n",
       "      <th>adjclose</th>\n",
       "      <th>volume</th>\n",
       "      <th>ticker</th>\n",
       "    </tr>\n",
       "  </thead>\n",
       "  <tbody>\n",
       "    <tr>\n",
       "      <th>1999-01-04</th>\n",
       "      <td>123.3750</td>\n",
       "      <td>125.21875</td>\n",
       "      <td>121.71875</td>\n",
       "      <td>123.03125</td>\n",
       "      <td>83.186729</td>\n",
       "      <td>9450400</td>\n",
       "      <td>SPY</td>\n",
       "    </tr>\n",
       "    <tr>\n",
       "      <th>1999-01-05</th>\n",
       "      <td>122.9375</td>\n",
       "      <td>124.87500</td>\n",
       "      <td>122.93750</td>\n",
       "      <td>124.43750</td>\n",
       "      <td>84.137527</td>\n",
       "      <td>8031000</td>\n",
       "      <td>SPY</td>\n",
       "    </tr>\n",
       "    <tr>\n",
       "      <th>1999-01-06</th>\n",
       "      <td>125.8125</td>\n",
       "      <td>127.75000</td>\n",
       "      <td>125.75000</td>\n",
       "      <td>127.43750</td>\n",
       "      <td>86.165947</td>\n",
       "      <td>7737700</td>\n",
       "      <td>SPY</td>\n",
       "    </tr>\n",
       "    <tr>\n",
       "      <th>1999-01-07</th>\n",
       "      <td>126.3750</td>\n",
       "      <td>127.21875</td>\n",
       "      <td>125.78125</td>\n",
       "      <td>126.81250</td>\n",
       "      <td>85.743378</td>\n",
       "      <td>5504900</td>\n",
       "      <td>SPY</td>\n",
       "    </tr>\n",
       "    <tr>\n",
       "      <th>1999-01-08</th>\n",
       "      <td>128.1875</td>\n",
       "      <td>128.50000</td>\n",
       "      <td>125.96875</td>\n",
       "      <td>127.75000</td>\n",
       "      <td>86.377289</td>\n",
       "      <td>6224400</td>\n",
       "      <td>SPY</td>\n",
       "    </tr>\n",
       "  </tbody>\n",
       "</table>\n",
       "</div>"
      ],
      "text/plain": [
       "                open       high        low      close   adjclose   volume  \\\n",
       "1999-01-04  123.3750  125.21875  121.71875  123.03125  83.186729  9450400   \n",
       "1999-01-05  122.9375  124.87500  122.93750  124.43750  84.137527  8031000   \n",
       "1999-01-06  125.8125  127.75000  125.75000  127.43750  86.165947  7737700   \n",
       "1999-01-07  126.3750  127.21875  125.78125  126.81250  85.743378  5504900   \n",
       "1999-01-08  128.1875  128.50000  125.96875  127.75000  86.377289  6224400   \n",
       "\n",
       "           ticker  \n",
       "1999-01-04    SPY  \n",
       "1999-01-05    SPY  \n",
       "1999-01-06    SPY  \n",
       "1999-01-07    SPY  \n",
       "1999-01-08    SPY  "
      ]
     },
     "execution_count": 3,
     "metadata": {},
     "output_type": "execute_result"
    }
   ],
   "source": [
    "# import stock_info module from yahoo_fin\n",
    "google = si.get_data(TICKER, start_date, end_date, interval)\n",
    "close = google.close.values.tolist()\n",
    "google.head()"
   ]
  },
  {
   "cell_type": "markdown",
   "metadata": {
    "inputHidden": false,
    "outputHidden": false
   },
   "source": [
    "import pandas as pd\n",
    "google = pd.read_csv('/Users/huseinzolkepli/Desktop/GOOG.csv')\n",
    "google.head()"
   ]
  },
  {
   "cell_type": "code",
   "execution_count": 4,
   "metadata": {
    "inputHidden": false,
    "outputHidden": false
   },
   "outputs": [],
   "source": [
    "# initialize model and \n",
    "from deep_evolution_strategy import Model, Agent \n",
    "# if os.path.\n",
    "#     with open(filename, 'rb') as input:\n",
    "#         model = pickle.load(input)  \n",
    "model = Model(input_size = WINDOW_SIZE, layer_size = LAYER_SIZE, output_size = 3)\n",
    "agent = Agent(\n",
    "    model = model,\n",
    "    money = INITIAL_MONEY,\n",
    "    max_buy = MAX_BUY,\n",
    "    max_sell = MAX_SELL,\n",
    "    close = close,\n",
    "    skip = 1,\n",
    ")"
   ]
  },
  {
   "cell_type": "code",
   "execution_count": 5,
   "metadata": {
    "inputHidden": false,
    "outputHidden": false
   },
   "outputs": [
    {
     "name": "stdout",
     "output_type": "stream",
     "text": [
      "iter 10. reward: 174.782082\n",
      "iter 20. reward: 318.044734\n",
      "iter 30. reward: 512.497162\n",
      "iter 40. reward: 384.977219\n",
      "iter 50. reward: 621.751628\n",
      "iter 60. reward: 704.448134\n",
      "iter 70. reward: 723.975166\n",
      "iter 80. reward: 774.422714\n",
      "iter 90. reward: 637.531320\n",
      "iter 100. reward: 668.821709\n",
      "iter 110. reward: 722.392083\n",
      "iter 120. reward: 789.840822\n",
      "iter 130. reward: 872.586255\n",
      "iter 140. reward: 786.519685\n",
      "iter 150. reward: 791.466727\n",
      "iter 160. reward: 907.309417\n",
      "iter 170. reward: 823.177962\n",
      "iter 180. reward: 814.559344\n",
      "iter 190. reward: 736.732549\n",
      "iter 200. reward: 944.889312\n",
      "iter 210. reward: 927.951115\n",
      "iter 220. reward: 867.912141\n",
      "iter 230. reward: 970.922279\n",
      "iter 240. reward: 968.911853\n",
      "iter 250. reward: 1074.256154\n",
      "iter 260. reward: 1041.228753\n",
      "iter 270. reward: 1164.629776\n",
      "iter 280. reward: 1069.528529\n",
      "iter 290. reward: 1072.836039\n",
      "iter 300. reward: 1154.623418\n",
      "iter 310. reward: 1143.356116\n",
      "iter 320. reward: 1151.632675\n",
      "iter 330. reward: 1120.975404\n",
      "iter 340. reward: 1236.878588\n",
      "iter 350. reward: 1002.736617\n",
      "iter 360. reward: 1075.813207\n",
      "iter 370. reward: 1116.617612\n",
      "iter 380. reward: 922.898210\n",
      "iter 390. reward: 1077.545120\n",
      "iter 400. reward: 1130.659341\n",
      "iter 410. reward: 1092.148599\n",
      "iter 420. reward: 1115.756222\n",
      "iter 430. reward: 998.837846\n",
      "iter 440. reward: 1156.213423\n",
      "iter 450. reward: 1094.247356\n",
      "iter 460. reward: 1308.032042\n",
      "iter 470. reward: 1207.357742\n",
      "iter 480. reward: 1182.487785\n",
      "iter 490. reward: 1291.309134\n",
      "iter 500. reward: 1135.559758\n",
      "time taken to train: 1076.6906728744507 seconds\n"
     ]
    }
   ],
   "source": [
    "agent.fit(iterations = 500, checkpoint = 10)"
   ]
  },
  {
   "cell_type": "code",
   "execution_count": 6,
   "metadata": {},
   "outputs": [
    {
     "data": {
      "text/html": [
       "<div>\n",
       "<style scoped>\n",
       "    .dataframe tbody tr th:only-of-type {\n",
       "        vertical-align: middle;\n",
       "    }\n",
       "\n",
       "    .dataframe tbody tr th {\n",
       "        vertical-align: top;\n",
       "    }\n",
       "\n",
       "    .dataframe thead th {\n",
       "        text-align: right;\n",
       "    }\n",
       "</style>\n",
       "<table border=\"1\" class=\"dataframe\">\n",
       "  <thead>\n",
       "    <tr style=\"text-align: right;\">\n",
       "      <th></th>\n",
       "      <th>open</th>\n",
       "      <th>high</th>\n",
       "      <th>low</th>\n",
       "      <th>close</th>\n",
       "      <th>adjclose</th>\n",
       "      <th>volume</th>\n",
       "      <th>ticker</th>\n",
       "    </tr>\n",
       "  </thead>\n",
       "  <tbody>\n",
       "    <tr>\n",
       "      <th>2020-03-30</th>\n",
       "      <td>255.699997</td>\n",
       "      <td>262.429993</td>\n",
       "      <td>253.529999</td>\n",
       "      <td>261.649994</td>\n",
       "      <td>261.649994</td>\n",
       "      <td>171369500</td>\n",
       "      <td>SPY</td>\n",
       "    </tr>\n",
       "    <tr>\n",
       "      <th>2020-03-31</th>\n",
       "      <td>260.559998</td>\n",
       "      <td>263.329987</td>\n",
       "      <td>256.220001</td>\n",
       "      <td>257.750000</td>\n",
       "      <td>257.750000</td>\n",
       "      <td>194881100</td>\n",
       "      <td>SPY</td>\n",
       "    </tr>\n",
       "    <tr>\n",
       "      <th>2020-04-01</th>\n",
       "      <td>247.979996</td>\n",
       "      <td>257.660004</td>\n",
       "      <td>243.899994</td>\n",
       "      <td>246.149994</td>\n",
       "      <td>246.149994</td>\n",
       "      <td>189554600</td>\n",
       "      <td>SPY</td>\n",
       "    </tr>\n",
       "    <tr>\n",
       "      <th>2020-04-02</th>\n",
       "      <td>245.190002</td>\n",
       "      <td>252.679993</td>\n",
       "      <td>244.589996</td>\n",
       "      <td>251.830002</td>\n",
       "      <td>251.830002</td>\n",
       "      <td>177660400</td>\n",
       "      <td>SPY</td>\n",
       "    </tr>\n",
       "    <tr>\n",
       "      <th>2020-04-03</th>\n",
       "      <td>250.759995</td>\n",
       "      <td>253.320007</td>\n",
       "      <td>245.220001</td>\n",
       "      <td>248.190002</td>\n",
       "      <td>248.190002</td>\n",
       "      <td>135310100</td>\n",
       "      <td>SPY</td>\n",
       "    </tr>\n",
       "  </tbody>\n",
       "</table>\n",
       "</div>"
      ],
      "text/plain": [
       "                  open        high         low       close    adjclose  \\\n",
       "2020-03-30  255.699997  262.429993  253.529999  261.649994  261.649994   \n",
       "2020-03-31  260.559998  263.329987  256.220001  257.750000  257.750000   \n",
       "2020-04-01  247.979996  257.660004  243.899994  246.149994  246.149994   \n",
       "2020-04-02  245.190002  252.679993  244.589996  251.830002  251.830002   \n",
       "2020-04-03  250.759995  253.320007  245.220001  248.190002  248.190002   \n",
       "\n",
       "               volume ticker  \n",
       "2020-03-30  171369500    SPY  \n",
       "2020-03-31  194881100    SPY  \n",
       "2020-04-01  189554600    SPY  \n",
       "2020-04-02  177660400    SPY  \n",
       "2020-04-03  135310100    SPY  "
      ]
     },
     "execution_count": 6,
     "metadata": {},
     "output_type": "execute_result"
    }
   ],
   "source": [
    "# import stock_info module from yahoo_fin\n",
    "start_date = '01/01/2020'\n",
    "end_date = None # '01/01/2017'\n",
    "google = si.get_data(TICKER, start_date, end_date, interval = '1d')\n",
    "close = google.close.values.tolist()\n",
    "agent.close = close\n",
    "google.tail()"
   ]
  },
  {
   "cell_type": "code",
   "execution_count": 7,
   "metadata": {
    "inputHidden": false,
    "outputHidden": false,
    "scrolled": true
   },
   "outputs": [
    {
     "name": "stdout",
     "output_type": "stream",
     "text": [
      "day 0: buy 5 units at price 1624.349976, total balance -624.349976\n",
      "day 5, sell 5 units at price 1633.249969, investment 0.547911 %, total balance 1008.899994,\n",
      "day 15: buy 1 units at price 328.769989, total balance 680.130005\n",
      "day 16: buy 5 units at price 1617.500000, total balance -937.369995\n",
      "day 22, sell 5 units at price 1645.299988, investment 400.441051 %, total balance 707.929993,\n",
      "day 24, sell 1 units at price 333.980011, investment -79.352086 %, total balance 1041.910004,\n",
      "day 32: buy 1 units at price 338.339996, total balance 703.570007\n",
      "day 33: buy 5 units at price 1684.750061, total balance -981.180054\n",
      "day 43, sell 5 units at price 1512.299957, investment 346.976406 %, total balance 531.119904,\n",
      "day 44: buy 5 units at price 1487.299957, total balance -956.180054\n",
      "day 46, sell 5 units at price 1442.100067, investment -14.402729 %, total balance 485.920013,\n",
      "day 47: buy 5 units at price 1371.799927, total balance -885.879913\n",
      "day 49, sell 5 units at price 1346.600037, investment -9.460090 %, total balance 460.720123,\n",
      "day 50: buy 5 units at price 1199.250031, total balance -738.529907\n",
      "day 52, sell 5 units at price 1200.000000, investment -12.523687 %, total balance 461.470093,\n",
      "day 53: buy 5 units at price 1202.549973, total balance -741.079880\n",
      "day 56, sell 5 units at price 1215.749969, investment 1.375855 %, total balance 474.670090,\n",
      "day 57: buy 1 units at price 246.789993, total balance 227.880096\n",
      "day 58, sell 2 units at price 522.400024, investment -56.558976 %, total balance 750.280121,\n",
      "day 62: buy 5 units at price 1230.749969, total balance -480.469849\n",
      "day 63, sell 5 units at price 1259.150009, investment 2.307539 %, total balance 778.680161,\n",
      "\n",
      "total gained -221.319839, total investment -22.131984 %\n"
     ]
    },
    {
     "data": {
      "image/png": "[encoded data removed]",
      "text/plain": [
       "<Figure size 1440x720 with 1 Axes>"
      ]
     },
     "metadata": {
      "needs_background": "light"
     },
     "output_type": "display_data"
    }
   ],
   "source": [
    "agent.close = close\n",
    "agent.buy()"
   ]
  },
  {
   "cell_type": "code",
   "execution_count": 8,
   "metadata": {},
   "outputs": [
    {
     "data": {
      "text/plain": [
       "(30, 500)"
      ]
     },
     "execution_count": 8,
     "metadata": {},
     "output_type": "execute_result"
    }
   ],
   "source": [
    "filename = 'mymodel.pkl'\n",
    "filehandler = open(filename, 'wb') \n",
    "pickle.dump(model, filehandler)\n",
    "with open(filename, 'rb') as input:\n",
    "    loaded_model = pickle.load(input)\n",
    "loaded_model.weights[0].shape"
   ]
  },
  {
   "cell_type": "code",
   "execution_count": 9,
   "metadata": {},
   "outputs": [],
   "source": [
    "filename = 'myagent.pkl'\n",
    "filehandler = open(filename, 'wb') \n",
    "pickle.dump(agent, filehandler)\n",
    "with open(filename, 'rb') as input:\n",
    "    loaded_agent = pickle.load(input)"
   ]
  },
  {
   "cell_type": "code",
   "execution_count": 10,
   "metadata": {},
   "outputs": [
    {
     "data": {
      "text/html": [
       "<div>\n",
       "<style scoped>\n",
       "    .dataframe tbody tr th:only-of-type {\n",
       "        vertical-align: middle;\n",
       "    }\n",
       "\n",
       "    .dataframe tbody tr th {\n",
       "        vertical-align: top;\n",
       "    }\n",
       "\n",
       "    .dataframe thead th {\n",
       "        text-align: right;\n",
       "    }\n",
       "</style>\n",
       "<table border=\"1\" class=\"dataframe\">\n",
       "  <thead>\n",
       "    <tr style=\"text-align: right;\">\n",
       "      <th></th>\n",
       "      <th>open</th>\n",
       "      <th>high</th>\n",
       "      <th>low</th>\n",
       "      <th>close</th>\n",
       "      <th>adjclose</th>\n",
       "      <th>volume</th>\n",
       "      <th>ticker</th>\n",
       "    </tr>\n",
       "  </thead>\n",
       "  <tbody>\n",
       "    <tr>\n",
       "      <th>2006-01-03</th>\n",
       "      <td>125.190002</td>\n",
       "      <td>127.000000</td>\n",
       "      <td>124.389999</td>\n",
       "      <td>126.699997</td>\n",
       "      <td>94.888084</td>\n",
       "      <td>73256700</td>\n",
       "      <td>SPY</td>\n",
       "    </tr>\n",
       "    <tr>\n",
       "      <th>2006-01-04</th>\n",
       "      <td>126.860001</td>\n",
       "      <td>127.489998</td>\n",
       "      <td>126.699997</td>\n",
       "      <td>127.300003</td>\n",
       "      <td>95.337463</td>\n",
       "      <td>51899600</td>\n",
       "      <td>SPY</td>\n",
       "    </tr>\n",
       "    <tr>\n",
       "      <th>2006-01-05</th>\n",
       "      <td>127.150002</td>\n",
       "      <td>127.589996</td>\n",
       "      <td>126.879997</td>\n",
       "      <td>127.379997</td>\n",
       "      <td>95.397354</td>\n",
       "      <td>47307500</td>\n",
       "      <td>SPY</td>\n",
       "    </tr>\n",
       "    <tr>\n",
       "      <th>2006-01-06</th>\n",
       "      <td>128.020004</td>\n",
       "      <td>128.580002</td>\n",
       "      <td>127.360001</td>\n",
       "      <td>128.440002</td>\n",
       "      <td>96.191185</td>\n",
       "      <td>62885900</td>\n",
       "      <td>SPY</td>\n",
       "    </tr>\n",
       "    <tr>\n",
       "      <th>2006-01-09</th>\n",
       "      <td>128.419998</td>\n",
       "      <td>129.059998</td>\n",
       "      <td>128.380005</td>\n",
       "      <td>128.770004</td>\n",
       "      <td>96.438316</td>\n",
       "      <td>43527400</td>\n",
       "      <td>SPY</td>\n",
       "    </tr>\n",
       "  </tbody>\n",
       "</table>\n",
       "</div>"
      ],
      "text/plain": [
       "                  open        high         low       close   adjclose  \\\n",
       "2006-01-03  125.190002  127.000000  124.389999  126.699997  94.888084   \n",
       "2006-01-04  126.860001  127.489998  126.699997  127.300003  95.337463   \n",
       "2006-01-05  127.150002  127.589996  126.879997  127.379997  95.397354   \n",
       "2006-01-06  128.020004  128.580002  127.360001  128.440002  96.191185   \n",
       "2006-01-09  128.419998  129.059998  128.380005  128.770004  96.438316   \n",
       "\n",
       "              volume ticker  \n",
       "2006-01-03  73256700    SPY  \n",
       "2006-01-04  51899600    SPY  \n",
       "2006-01-05  47307500    SPY  \n",
       "2006-01-06  62885900    SPY  \n",
       "2006-01-09  43527400    SPY  "
      ]
     },
     "execution_count": 10,
     "metadata": {},
     "output_type": "execute_result"
    }
   ],
   "source": [
    "# re-training dataset \n",
    "start_date = '01/01/2006'\n",
    "end_date = '01/01/2011'\n",
    "interval = '1d'\n",
    "\n",
    "# import stock_info module from yahoo_fin\n",
    "google = si.get_data(TICKER, start_date, end_date, interval)\n",
    "close = google.close.values.tolist()\n",
    "google.head()"
   ]
  },
  {
   "cell_type": "code",
   "execution_count": 11,
   "metadata": {},
   "outputs": [],
   "source": [
    "loaded_agent.max_buy = 100\n",
    "loaded_agent.max_sell = 100\n",
    "loaded_agent.model = loaded_model\n",
    "loaded_agent.close = close\n",
    "loaded_agent.fit(iterations = 500, checkpoint = 10)"
   ]
  },
  {
   "cell_type": "code",
   "execution_count": null,
   "metadata": {},
   "outputs": [
    {
     "name": "stdout",
     "output_type": "stream",
     "text": [
      "iter 10. reward: 129.716988\n",
      "iter 20. reward: 189.634981\n",
      "iter 30. reward: 203.580905\n",
      "iter 40. reward: 184.268951\n",
      "iter 50. reward: 188.681963\n",
      "iter 60. reward: 210.132981\n",
      "iter 70. reward: 233.882982\n",
      "iter 80. reward: 227.124012\n",
      "iter 90. reward: 252.847986\n",
      "iter 100. reward: 189.752013\n",
      "iter 110. reward: 315.751025\n",
      "iter 120. reward: 292.066994\n",
      "iter 130. reward: 328.325004\n",
      "iter 140. reward: 271.067994\n",
      "iter 150. reward: 316.126034\n",
      "iter 160. reward: 334.834999\n",
      "iter 170. reward: 357.827001\n",
      "iter 180. reward: 343.128988\n",
      "iter 190. reward: 337.094007\n",
      "iter 200. reward: 374.511031\n"
     ]
    }
   ],
   "source": [
    "agent.max_buy = 100\n",
    "agent.max_sell = 100\n",
    "agent.model = loaded_model\n",
    "agent.close = close\n",
    "agent.fit(iterations = 500, checkpoint = 10)"
   ]
  },
  {
   "cell_type": "code",
   "execution_count": null,
   "metadata": {},
   "outputs": [],
   "source": []
  }
 ],
 "metadata": {
  "kernel_info": {
   "name": "python3"
  },
  "kernelspec": {
   "display_name": "Python [conda env:forcast] *",
   "language": "python",
   "name": "conda-env-forcast-py"
  },
  "language_info": {
   "codemirror_mode": {
    "name": "ipython",
    "version": 3
   },
   "file_extension": ".py",
   "mimetype": "text/x-python",
   "name": "python",
   "nbconvert_exporter": "python",
   "pygments_lexer": "ipython3",
   "version": "3.7.3"
  },
  "nteract": {
   "version": "0.11.9"
  }
 },
 "nbformat": 4,
 "nbformat_minor": 4
}
